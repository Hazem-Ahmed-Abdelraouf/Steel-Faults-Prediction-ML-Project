{
  "cells": [
    {
      "cell_type": "markdown",
      "metadata": {
        "id": "5VvqXCldfewE"
      },
      "source": [
        "# Installations"
      ]
    },
    {
      "cell_type": "code",
      "execution_count": null,
      "metadata": {
        "colab": {
          "base_uri": "https://localhost:8080/"
        },
        "id": "tVaG2iIcfgt9",
        "outputId": "b8600e0c-6f71-478a-8bcc-f4d90f25a599"
      },
      "outputs": [
        {
          "name": "stdout",
          "output_type": "stream",
          "text": [
            "Looking in indexes: https://pypi.org/simple, https://us-python.pkg.dev/colab-wheels/public/simple/\n",
            "Requirement already satisfied: matplotlib==3.5.2 in /usr/local/lib/python3.7/dist-packages (3.5.2)\n",
            "Requirement already satisfied: cycler>=0.10 in /usr/local/lib/python3.7/dist-packages (from matplotlib==3.5.2) (0.11.0)\n",
            "Requirement already satisfied: packaging>=20.0 in /usr/local/lib/python3.7/dist-packages (from matplotlib==3.5.2) (21.3)\n",
            "Requirement already satisfied: pillow>=6.2.0 in /usr/local/lib/python3.7/dist-packages (from matplotlib==3.5.2) (7.1.2)\n",
            "Requirement already satisfied: python-dateutil>=2.7 in /usr/local/lib/python3.7/dist-packages (from matplotlib==3.5.2) (2.8.2)\n",
            "Requirement already satisfied: fonttools>=4.22.0 in /usr/local/lib/python3.7/dist-packages (from matplotlib==3.5.2) (4.37.3)\n",
            "Requirement already satisfied: numpy>=1.17 in /usr/local/lib/python3.7/dist-packages (from matplotlib==3.5.2) (1.21.6)\n",
            "Requirement already satisfied: kiwisolver>=1.0.1 in /usr/local/lib/python3.7/dist-packages (from matplotlib==3.5.2) (1.4.4)\n",
            "Requirement already satisfied: pyparsing>=2.2.1 in /usr/local/lib/python3.7/dist-packages (from matplotlib==3.5.2) (3.0.9)\n",
            "Requirement already satisfied: typing-extensions in /usr/local/lib/python3.7/dist-packages (from kiwisolver>=1.0.1->matplotlib==3.5.2) (4.1.1)\n",
            "Requirement already satisfied: six>=1.5 in /usr/local/lib/python3.7/dist-packages (from python-dateutil>=2.7->matplotlib==3.5.2) (1.15.0)\n"
          ]
        }
      ],
      "source": [
        "# To display numbers on top of bar plots without\n",
        "# explicit coding we will need matplotlib>=3.4\n",
        "# You may need to restart runtime after this step\n",
        "# in Google Colab\n",
        "! pip install matplotlib==3.5.2"
      ]
    },
    {
      "cell_type": "markdown",
      "metadata": {
        "id": "kIIBCIK5ZGr6"
      },
      "source": [
        "# Imports"
      ]
    },
    {
      "cell_type": "code",
      "execution_count": null,
      "metadata": {
        "id": "-gKPn6Cgg5DA"
      },
      "outputs": [],
      "source": [
        "import numpy as np\n",
        "import pandas as pd\n",
        "import seaborn as sns\n",
        "import matplotlib.pyplot as plt"
      ]
    },
    {
      "cell_type": "code",
      "execution_count": null,
      "metadata": {
        "id": "FG8gbCPBZv0C"
      },
      "outputs": [],
      "source": [
        "from sklearn.metrics import confusion_matrix\n",
        "from sklearn.preprocessing import MinMaxScaler\n",
        "from sklearn.metrics import classification_report\n",
        "from sklearn.model_selection import train_test_split\n",
        "from sklearn.model_selection import GridSearchCV\n",
        "from imblearn.over_sampling import SMOTE\n",
        "\n",
        "import torch\n",
        "import torch.nn.functional as F\n",
        "import torch.nn as nn\n",
        "from torch.autograd import Variable\n",
        "\n",
        "from sklearn.tree import DecisionTreeClassifier"
      ]
    },
    {
      "cell_type": "markdown",
      "metadata": {
        "id": "Gi16xGBTaN3Z"
      },
      "source": [
        "# Reading Data"
      ]
    },
    {
      "cell_type": "code",
      "execution_count": null,
      "metadata": {
        "id": "h3x11Kjocs4O"
      },
      "outputs": [],
      "source": [
        "# To display all the columns of the dataframe\n",
        "pd.set_option('display.max_columns', None)"
      ]
    },
    {
      "cell_type": "code",
      "execution_count": null,
      "metadata": {
        "id": "eAvWOUGeg-yF"
      },
      "outputs": [],
      "source": [
        "df = pd.read_csv(\"./steel_faults.csv\")"
      ]
    },
    {
      "cell_type": "markdown",
      "metadata": {
        "id": "oIuueG9aaRpo"
      },
      "source": [
        "# Visualization and EDA on Data"
      ]
    },
    {
      "cell_type": "code",
      "execution_count": null,
      "metadata": {
        "colab": {
          "base_uri": "https://localhost:8080/"
        },
        "id": "WxYoIuA5bh8W",
        "outputId": "542b1b84-ee51-4ce2-d5f7-75a3a2880a1f"
      },
      "outputs": [
        {
          "name": "stdout",
          "output_type": "stream",
          "text": [
            "Number of Rows in the Dataset: 1941\n",
            "Number of Columns in the Dataset: 28\n"
          ]
        }
      ],
      "source": [
        "shape = df.shape\n",
        "print(f\"Number of Rows in the Dataset: {df.shape[0]}\")\n",
        "print(f\"Number of Columns in the Dataset: {df.shape[1]}\")"
      ]
    },
    {
      "cell_type": "markdown",
      "metadata": {
        "id": "YDLPHdrtbWmW"
      },
      "source": [
        "Let us first look at the first five rows of the dataset to get a better understanding of the dataset"
      ]
    },
    {
      "cell_type": "code",
      "execution_count": null,
      "metadata": {
        "colab": {
          "base_uri": "https://localhost:8080/",
          "height": 270
        },
        "id": "d4_qOiw_hDk0",
        "outputId": "3308b352-0d71-4a2e-bc99-644b24427e0f"
      },
      "outputs": [
        {
          "data": {
            "text/html": [
              "\n",
              "  <div id=\"df-e1df6420-710f-46a6-9433-608944d04cd5\">\n",
              "    <div class=\"colab-df-container\">\n",
              "      <div>\n",
              "<style scoped>\n",
              "    .dataframe tbody tr th:only-of-type {\n",
              "        vertical-align: middle;\n",
              "    }\n",
              "\n",
              "    .dataframe tbody tr th {\n",
              "        vertical-align: top;\n",
              "    }\n",
              "\n",
              "    .dataframe thead th {\n",
              "        text-align: right;\n",
              "    }\n",
              "</style>\n",
              "<table border=\"1\" class=\"dataframe\">\n",
              "  <thead>\n",
              "    <tr style=\"text-align: right;\">\n",
              "      <th></th>\n",
              "      <th>X_Minimum</th>\n",
              "      <th>X_Maximum</th>\n",
              "      <th>Y_Minimum</th>\n",
              "      <th>Y_Maximum</th>\n",
              "      <th>Pixels_Areas</th>\n",
              "      <th>X_Perimeter</th>\n",
              "      <th>Y_Perimeter</th>\n",
              "      <th>Sum_of_Luminosity</th>\n",
              "      <th>Minimum_of_Luminosity</th>\n",
              "      <th>Maximum_of_Luminosity</th>\n",
              "      <th>Length_of_Conveyer</th>\n",
              "      <th>TypeOfSteel_A300</th>\n",
              "      <th>TypeOfSteel_A400</th>\n",
              "      <th>Steel_Plate_Thickness</th>\n",
              "      <th>Edges_Index</th>\n",
              "      <th>Empty_Index</th>\n",
              "      <th>Square_Index</th>\n",
              "      <th>Outside_X_Index</th>\n",
              "      <th>Edges_X_Index</th>\n",
              "      <th>Edges_Y_Index</th>\n",
              "      <th>Outside_Global_Index</th>\n",
              "      <th>LogOfAreas</th>\n",
              "      <th>Log_X_Index</th>\n",
              "      <th>Log_Y_Index</th>\n",
              "      <th>Orientation_Index</th>\n",
              "      <th>Luminosity_Index</th>\n",
              "      <th>SigmoidOfAreas</th>\n",
              "      <th>Faults</th>\n",
              "    </tr>\n",
              "  </thead>\n",
              "  <tbody>\n",
              "    <tr>\n",
              "      <th>0</th>\n",
              "      <td>42</td>\n",
              "      <td>50</td>\n",
              "      <td>270900</td>\n",
              "      <td>270944</td>\n",
              "      <td>267</td>\n",
              "      <td>17</td>\n",
              "      <td>44</td>\n",
              "      <td>24220</td>\n",
              "      <td>76</td>\n",
              "      <td>108</td>\n",
              "      <td>1687</td>\n",
              "      <td>1</td>\n",
              "      <td>0</td>\n",
              "      <td>80</td>\n",
              "      <td>0.0498</td>\n",
              "      <td>0.2415</td>\n",
              "      <td>0.1818</td>\n",
              "      <td>0.0047</td>\n",
              "      <td>0.4706</td>\n",
              "      <td>1.0000</td>\n",
              "      <td>1.0</td>\n",
              "      <td>2.4265</td>\n",
              "      <td>0.9031</td>\n",
              "      <td>1.6435</td>\n",
              "      <td>0.8182</td>\n",
              "      <td>-0.2913</td>\n",
              "      <td>0.5822</td>\n",
              "      <td>0</td>\n",
              "    </tr>\n",
              "    <tr>\n",
              "      <th>1</th>\n",
              "      <td>645</td>\n",
              "      <td>651</td>\n",
              "      <td>2538079</td>\n",
              "      <td>2538108</td>\n",
              "      <td>108</td>\n",
              "      <td>10</td>\n",
              "      <td>30</td>\n",
              "      <td>11397</td>\n",
              "      <td>84</td>\n",
              "      <td>123</td>\n",
              "      <td>1687</td>\n",
              "      <td>1</td>\n",
              "      <td>0</td>\n",
              "      <td>80</td>\n",
              "      <td>0.7647</td>\n",
              "      <td>0.3793</td>\n",
              "      <td>0.2069</td>\n",
              "      <td>0.0036</td>\n",
              "      <td>0.6000</td>\n",
              "      <td>0.9667</td>\n",
              "      <td>1.0</td>\n",
              "      <td>2.0334</td>\n",
              "      <td>0.7782</td>\n",
              "      <td>1.4624</td>\n",
              "      <td>0.7931</td>\n",
              "      <td>-0.1756</td>\n",
              "      <td>0.2984</td>\n",
              "      <td>0</td>\n",
              "    </tr>\n",
              "    <tr>\n",
              "      <th>2</th>\n",
              "      <td>829</td>\n",
              "      <td>835</td>\n",
              "      <td>1553913</td>\n",
              "      <td>1553931</td>\n",
              "      <td>71</td>\n",
              "      <td>8</td>\n",
              "      <td>19</td>\n",
              "      <td>7972</td>\n",
              "      <td>99</td>\n",
              "      <td>125</td>\n",
              "      <td>1623</td>\n",
              "      <td>1</td>\n",
              "      <td>0</td>\n",
              "      <td>100</td>\n",
              "      <td>0.9710</td>\n",
              "      <td>0.3426</td>\n",
              "      <td>0.3333</td>\n",
              "      <td>0.0037</td>\n",
              "      <td>0.7500</td>\n",
              "      <td>0.9474</td>\n",
              "      <td>1.0</td>\n",
              "      <td>1.8513</td>\n",
              "      <td>0.7782</td>\n",
              "      <td>1.2553</td>\n",
              "      <td>0.6667</td>\n",
              "      <td>-0.1228</td>\n",
              "      <td>0.2150</td>\n",
              "      <td>0</td>\n",
              "    </tr>\n",
              "    <tr>\n",
              "      <th>3</th>\n",
              "      <td>853</td>\n",
              "      <td>860</td>\n",
              "      <td>369370</td>\n",
              "      <td>369415</td>\n",
              "      <td>176</td>\n",
              "      <td>13</td>\n",
              "      <td>45</td>\n",
              "      <td>18996</td>\n",
              "      <td>99</td>\n",
              "      <td>126</td>\n",
              "      <td>1353</td>\n",
              "      <td>0</td>\n",
              "      <td>1</td>\n",
              "      <td>290</td>\n",
              "      <td>0.7287</td>\n",
              "      <td>0.4413</td>\n",
              "      <td>0.1556</td>\n",
              "      <td>0.0052</td>\n",
              "      <td>0.5385</td>\n",
              "      <td>1.0000</td>\n",
              "      <td>1.0</td>\n",
              "      <td>2.2455</td>\n",
              "      <td>0.8451</td>\n",
              "      <td>1.6532</td>\n",
              "      <td>0.8444</td>\n",
              "      <td>-0.1568</td>\n",
              "      <td>0.5212</td>\n",
              "      <td>0</td>\n",
              "    </tr>\n",
              "    <tr>\n",
              "      <th>4</th>\n",
              "      <td>1289</td>\n",
              "      <td>1306</td>\n",
              "      <td>498078</td>\n",
              "      <td>498335</td>\n",
              "      <td>2409</td>\n",
              "      <td>60</td>\n",
              "      <td>260</td>\n",
              "      <td>246930</td>\n",
              "      <td>37</td>\n",
              "      <td>126</td>\n",
              "      <td>1353</td>\n",
              "      <td>0</td>\n",
              "      <td>1</td>\n",
              "      <td>185</td>\n",
              "      <td>0.0695</td>\n",
              "      <td>0.4486</td>\n",
              "      <td>0.0662</td>\n",
              "      <td>0.0126</td>\n",
              "      <td>0.2833</td>\n",
              "      <td>0.9885</td>\n",
              "      <td>1.0</td>\n",
              "      <td>3.3818</td>\n",
              "      <td>1.2305</td>\n",
              "      <td>2.4099</td>\n",
              "      <td>0.9338</td>\n",
              "      <td>-0.1992</td>\n",
              "      <td>1.0000</td>\n",
              "      <td>0</td>\n",
              "    </tr>\n",
              "  </tbody>\n",
              "</table>\n",
              "</div>\n",
              "      <button class=\"colab-df-convert\" onclick=\"convertToInteractive('df-e1df6420-710f-46a6-9433-608944d04cd5')\"\n",
              "              title=\"Convert this dataframe to an interactive table.\"\n",
              "              style=\"display:none;\">\n",
              "        \n",
              "  <svg xmlns=\"http://www.w3.org/2000/svg\" height=\"24px\"viewBox=\"0 0 24 24\"\n",
              "       width=\"24px\">\n",
              "    <path d=\"M0 0h24v24H0V0z\" fill=\"none\"/>\n",
              "    <path d=\"M18.56 5.44l.94 2.06.94-2.06 2.06-.94-2.06-.94-.94-2.06-.94 2.06-2.06.94zm-11 1L8.5 8.5l.94-2.06 2.06-.94-2.06-.94L8.5 2.5l-.94 2.06-2.06.94zm10 10l.94 2.06.94-2.06 2.06-.94-2.06-.94-.94-2.06-.94 2.06-2.06.94z\"/><path d=\"M17.41 7.96l-1.37-1.37c-.4-.4-.92-.59-1.43-.59-.52 0-1.04.2-1.43.59L10.3 9.45l-7.72 7.72c-.78.78-.78 2.05 0 2.83L4 21.41c.39.39.9.59 1.41.59.51 0 1.02-.2 1.41-.59l7.78-7.78 2.81-2.81c.8-.78.8-2.07 0-2.86zM5.41 20L4 18.59l7.72-7.72 1.47 1.35L5.41 20z\"/>\n",
              "  </svg>\n",
              "      </button>\n",
              "      \n",
              "  <style>\n",
              "    .colab-df-container {\n",
              "      display:flex;\n",
              "      flex-wrap:wrap;\n",
              "      gap: 12px;\n",
              "    }\n",
              "\n",
              "    .colab-df-convert {\n",
              "      background-color: #E8F0FE;\n",
              "      border: none;\n",
              "      border-radius: 50%;\n",
              "      cursor: pointer;\n",
              "      display: none;\n",
              "      fill: #1967D2;\n",
              "      height: 32px;\n",
              "      padding: 0 0 0 0;\n",
              "      width: 32px;\n",
              "    }\n",
              "\n",
              "    .colab-df-convert:hover {\n",
              "      background-color: #E2EBFA;\n",
              "      box-shadow: 0px 1px 2px rgba(60, 64, 67, 0.3), 0px 1px 3px 1px rgba(60, 64, 67, 0.15);\n",
              "      fill: #174EA6;\n",
              "    }\n",
              "\n",
              "    [theme=dark] .colab-df-convert {\n",
              "      background-color: #3B4455;\n",
              "      fill: #D2E3FC;\n",
              "    }\n",
              "\n",
              "    [theme=dark] .colab-df-convert:hover {\n",
              "      background-color: #434B5C;\n",
              "      box-shadow: 0px 1px 3px 1px rgba(0, 0, 0, 0.15);\n",
              "      filter: drop-shadow(0px 1px 2px rgba(0, 0, 0, 0.3));\n",
              "      fill: #FFFFFF;\n",
              "    }\n",
              "  </style>\n",
              "\n",
              "      <script>\n",
              "        const buttonEl =\n",
              "          document.querySelector('#df-e1df6420-710f-46a6-9433-608944d04cd5 button.colab-df-convert');\n",
              "        buttonEl.style.display =\n",
              "          google.colab.kernel.accessAllowed ? 'block' : 'none';\n",
              "\n",
              "        async function convertToInteractive(key) {\n",
              "          const element = document.querySelector('#df-e1df6420-710f-46a6-9433-608944d04cd5');\n",
              "          const dataTable =\n",
              "            await google.colab.kernel.invokeFunction('convertToInteractive',\n",
              "                                                     [key], {});\n",
              "          if (!dataTable) return;\n",
              "\n",
              "          const docLinkHtml = 'Like what you see? Visit the ' +\n",
              "            '<a target=\"_blank\" href=https://colab.research.google.com/notebooks/data_table.ipynb>data table notebook</a>'\n",
              "            + ' to learn more about interactive tables.';\n",
              "          element.innerHTML = '';\n",
              "          dataTable['output_type'] = 'display_data';\n",
              "          await google.colab.output.renderOutput(dataTable, element);\n",
              "          const docLink = document.createElement('div');\n",
              "          docLink.innerHTML = docLinkHtml;\n",
              "          element.appendChild(docLink);\n",
              "        }\n",
              "      </script>\n",
              "    </div>\n",
              "  </div>\n",
              "  "
            ],
            "text/plain": [
              "   X_Minimum  X_Maximum  Y_Minimum  Y_Maximum  Pixels_Areas  X_Perimeter  \\\n",
              "0         42         50     270900     270944           267           17   \n",
              "1        645        651    2538079    2538108           108           10   \n",
              "2        829        835    1553913    1553931            71            8   \n",
              "3        853        860     369370     369415           176           13   \n",
              "4       1289       1306     498078     498335          2409           60   \n",
              "\n",
              "   Y_Perimeter  Sum_of_Luminosity  Minimum_of_Luminosity  \\\n",
              "0           44              24220                     76   \n",
              "1           30              11397                     84   \n",
              "2           19               7972                     99   \n",
              "3           45              18996                     99   \n",
              "4          260             246930                     37   \n",
              "\n",
              "   Maximum_of_Luminosity  Length_of_Conveyer  TypeOfSteel_A300  \\\n",
              "0                    108                1687                 1   \n",
              "1                    123                1687                 1   \n",
              "2                    125                1623                 1   \n",
              "3                    126                1353                 0   \n",
              "4                    126                1353                 0   \n",
              "\n",
              "   TypeOfSteel_A400  Steel_Plate_Thickness  Edges_Index  Empty_Index  \\\n",
              "0                 0                     80       0.0498       0.2415   \n",
              "1                 0                     80       0.7647       0.3793   \n",
              "2                 0                    100       0.9710       0.3426   \n",
              "3                 1                    290       0.7287       0.4413   \n",
              "4                 1                    185       0.0695       0.4486   \n",
              "\n",
              "   Square_Index  Outside_X_Index  Edges_X_Index  Edges_Y_Index  \\\n",
              "0        0.1818           0.0047         0.4706         1.0000   \n",
              "1        0.2069           0.0036         0.6000         0.9667   \n",
              "2        0.3333           0.0037         0.7500         0.9474   \n",
              "3        0.1556           0.0052         0.5385         1.0000   \n",
              "4        0.0662           0.0126         0.2833         0.9885   \n",
              "\n",
              "   Outside_Global_Index  LogOfAreas  Log_X_Index  Log_Y_Index  \\\n",
              "0                   1.0      2.4265       0.9031       1.6435   \n",
              "1                   1.0      2.0334       0.7782       1.4624   \n",
              "2                   1.0      1.8513       0.7782       1.2553   \n",
              "3                   1.0      2.2455       0.8451       1.6532   \n",
              "4                   1.0      3.3818       1.2305       2.4099   \n",
              "\n",
              "   Orientation_Index  Luminosity_Index  SigmoidOfAreas  Faults  \n",
              "0             0.8182           -0.2913          0.5822       0  \n",
              "1             0.7931           -0.1756          0.2984       0  \n",
              "2             0.6667           -0.1228          0.2150       0  \n",
              "3             0.8444           -0.1568          0.5212       0  \n",
              "4             0.9338           -0.1992          1.0000       0  "
            ]
          },
          "execution_count": 47,
          "metadata": {},
          "output_type": "execute_result"
        }
      ],
      "source": [
        "df.head()"
      ]
    },
    {
      "cell_type": "code",
      "execution_count": null,
      "metadata": {
        "colab": {
          "base_uri": "https://localhost:8080/"
        },
        "id": "JN_eoO0AcBKK",
        "outputId": "d4720c1e-84fe-4aeb-afcb-8a9cbf58f686"
      },
      "outputs": [
        {
          "name": "stdout",
          "output_type": "stream",
          "text": [
            "Columns in the dataset: \n",
            "\n",
            "['X_Minimum' 'X_Maximum' 'Y_Minimum' 'Y_Maximum' 'Pixels_Areas'\n",
            " 'X_Perimeter' 'Y_Perimeter' 'Sum_of_Luminosity' 'Minimum_of_Luminosity'\n",
            " 'Maximum_of_Luminosity' 'Length_of_Conveyer' 'TypeOfSteel_A300'\n",
            " 'TypeOfSteel_A400' 'Steel_Plate_Thickness' 'Edges_Index' 'Empty_Index'\n",
            " 'Square_Index' 'Outside_X_Index' 'Edges_X_Index' 'Edges_Y_Index'\n",
            " 'Outside_Global_Index' 'LogOfAreas' 'Log_X_Index' 'Log_Y_Index'\n",
            " 'Orientation_Index' 'Luminosity_Index' 'SigmoidOfAreas' 'Faults']\n"
          ]
        }
      ],
      "source": [
        "columns = df.columns\n",
        "print(f\"Columns in the dataset: \\n\")\n",
        "print(columns.values)"
      ]
    },
    {
      "cell_type": "markdown",
      "metadata": {
        "id": "8MdmFZT4cb_f"
      },
      "source": [
        "**Faults** is the target variable that we are trying to predict. Let us plot it and see its distribution"
      ]
    },
    {
      "cell_type": "code",
      "execution_count": null,
      "metadata": {
        "colab": {
          "base_uri": "https://localhost:8080/",
          "height": 349
        },
        "id": "kRcI9aIYhEZI",
        "outputId": "67686393-0aae-49f8-aca8-d40836f47a10"
      },
      "outputs": [
        {
          "data": {
            "image/png": "[encoded data removed]",
            "text/plain": [
              "<Figure size 864x432 with 1 Axes>"
            ]
          },
          "metadata": {},
          "output_type": "display_data"
        }
      ],
      "source": [
        "plt.rcParams[\"figure.figsize\"] = (12,6)\n",
        "targetValueCount = df[\"Faults\"].value_counts()\n",
        "ax = sns.barplot(x=targetValueCount.index, y=targetValueCount)\n",
        "ax.bar_label(ax.containers[0]) # THIS NEEDS matplotlib==3.5.2\n",
        "ax.set_ylabel('Number of Occurances')\n",
        "ax.set_xlabel('Fault Type')\n",
        "plt.show()"
      ]
    },
    {
      "cell_type": "markdown",
      "metadata": {
        "id": "AOfq1k5Ycnm3"
      },
      "source": [
        "As evident from the plot above we have **six unique types of fault**. **Fault Type 6 is the most common** whereas **Fault Type 4 is least common** and as you can the dataset is not balanced so  we are going to balance it in **Preparing Data** section. \n",
        "\n",
        "Let us also visualize the percentage distribution of the Faults"
      ]
    },
    {
      "cell_type": "code",
      "execution_count": null,
      "metadata": {
        "colab": {
          "base_uri": "https://localhost:8080/",
          "height": 466
        },
        "id": "kbLI6dtHdEXv",
        "outputId": "5e4eab4f-38b4-42fc-e2a2-99610d5464a6"
      },
      "outputs": [
        {
          "data": {
            "image/png": "[encoded data removed]",
            "text/plain": [
              "<Figure size 1080x576 with 1 Axes>"
            ]
          },
          "metadata": {},
          "output_type": "display_data"
        }
      ],
      "source": [
        "plt.rcParams[\"figure.figsize\"] = (15,8)\n",
        "palette_color = sns.color_palette('bright')\n",
        "ax = plt.pie(targetValueCount, labels=targetValueCount.index, colors=palette_color, autopct='%.0f%%')\n",
        "plt.show()"
      ]
    },
    {
      "cell_type": "markdown",
      "metadata": {
        "id": "Gj2K9W6od-jW"
      },
      "source": [
        "As shown in the above plot, Fault 6 occurs 35% times in our dataset whereas Fault 4 only occurs 3% times"
      ]
    },
    {
      "cell_type": "markdown",
      "metadata": {
        "id": "6wdYhRNWeWtF"
      },
      "source": [
        "Let us now check if we have any discrepancy in our dataset by checking null values"
      ]
    },
    {
      "cell_type": "code",
      "execution_count": null,
      "metadata": {
        "colab": {
          "base_uri": "https://localhost:8080/"
        },
        "id": "bDx1kTGghQiv",
        "outputId": "3e38f6ca-9e6c-4040-fe8e-f824aa0a996d"
      },
      "outputs": [
        {
          "data": {
            "text/plain": [
              "X_Minimum                0\n",
              "X_Maximum                0\n",
              "Y_Minimum                0\n",
              "Y_Maximum                0\n",
              "Pixels_Areas             0\n",
              "X_Perimeter              0\n",
              "Y_Perimeter              0\n",
              "Sum_of_Luminosity        0\n",
              "Minimum_of_Luminosity    0\n",
              "Maximum_of_Luminosity    0\n",
              "Length_of_Conveyer       0\n",
              "TypeOfSteel_A300         0\n",
              "TypeOfSteel_A400         0\n",
              "Steel_Plate_Thickness    0\n",
              "Edges_Index              0\n",
              "Empty_Index              0\n",
              "Square_Index             0\n",
              "Outside_X_Index          0\n",
              "Edges_X_Index            0\n",
              "Edges_Y_Index            0\n",
              "Outside_Global_Index     0\n",
              "LogOfAreas               0\n",
              "Log_X_Index              0\n",
              "Log_Y_Index              0\n",
              "Orientation_Index        0\n",
              "Luminosity_Index         0\n",
              "SigmoidOfAreas           0\n",
              "Faults                   0\n",
              "dtype: int64"
            ]
          },
          "execution_count": 51,
          "metadata": {},
          "output_type": "execute_result"
        }
      ],
      "source": [
        "df.isnull().sum()"
      ]
    },
    {
      "cell_type": "markdown",
      "metadata": {
        "id": "Gaj0DNAqekI6"
      },
      "source": [
        "Fortunately this dataset doesn't have any Null Values so we dont need to apply any NULL data cleaning treatments on this dataset.\n",
        "\n",
        "Let us now check the datatypes of each of our columns. Since our supervised learning models works on numerical data, we may need to convert the non-numeric datatype columns to numeric types"
      ]
    },
    {
      "cell_type": "code",
      "execution_count": null,
      "metadata": {
        "colab": {
          "base_uri": "https://localhost:8080/"
        },
        "id": "bWstsFDHhz0J",
        "outputId": "a62c140e-a7ab-4137-8337-8b3ab9c71be5"
      },
      "outputs": [
        {
          "name": "stdout",
          "output_type": "stream",
          "text": [
            "<class 'pandas.core.frame.DataFrame'>\n",
            "RangeIndex: 1941 entries, 0 to 1940\n",
            "Data columns (total 28 columns):\n",
            " #   Column                 Non-Null Count  Dtype  \n",
            "---  ------                 --------------  -----  \n",
            " 0   X_Minimum              1941 non-null   int64  \n",
            " 1   X_Maximum              1941 non-null   int64  \n",
            " 2   Y_Minimum              1941 non-null   int64  \n",
            " 3   Y_Maximum              1941 non-null   int64  \n",
            " 4   Pixels_Areas           1941 non-null   int64  \n",
            " 5   X_Perimeter            1941 non-null   int64  \n",
            " 6   Y_Perimeter            1941 non-null   int64  \n",
            " 7   Sum_of_Luminosity      1941 non-null   int64  \n",
            " 8   Minimum_of_Luminosity  1941 non-null   int64  \n",
            " 9   Maximum_of_Luminosity  1941 non-null   int64  \n",
            " 10  Length_of_Conveyer     1941 non-null   int64  \n",
            " 11  TypeOfSteel_A300       1941 non-null   int64  \n",
            " 12  TypeOfSteel_A400       1941 non-null   int64  \n",
            " 13  Steel_Plate_Thickness  1941 non-null   int64  \n",
            " 14  Edges_Index            1941 non-null   float64\n",
            " 15  Empty_Index            1941 non-null   float64\n",
            " 16  Square_Index           1941 non-null   float64\n",
            " 17  Outside_X_Index        1941 non-null   float64\n",
            " 18  Edges_X_Index          1941 non-null   float64\n",
            " 19  Edges_Y_Index          1941 non-null   float64\n",
            " 20  Outside_Global_Index   1941 non-null   float64\n",
            " 21  LogOfAreas             1941 non-null   float64\n",
            " 22  Log_X_Index            1941 non-null   float64\n",
            " 23  Log_Y_Index            1941 non-null   float64\n",
            " 24  Orientation_Index      1941 non-null   float64\n",
            " 25  Luminosity_Index       1941 non-null   float64\n",
            " 26  SigmoidOfAreas         1941 non-null   float64\n",
            " 27  Faults                 1941 non-null   int64  \n",
            "dtypes: float64(13), int64(15)\n",
            "memory usage: 424.7 KB\n",
            "None\n"
          ]
        }
      ],
      "source": [
        "print(df.info())"
      ]
    },
    {
      "cell_type": "markdown",
      "metadata": {
        "id": "x6x5cC0hfJv9"
      },
      "source": [
        "All 28 of our columns are numeric only. So we donot need to convert their types."
      ]
    },
    {
      "cell_type": "markdown",
      "metadata": {
        "id": "pRNH8kP7hKGu"
      },
      "source": [
        "Since we are working on a Supervised task and we have a Target Variable whose value we are trying to predict by training a model, it is recommended to filter out the most important columns. These most important columns are the ones that affect the values of the target variable **Faults** the most. \n",
        "\n",
        "There are multiple methods to determine importance. Once such method is Correlation. Below we will draw a correlation heatmap and on the basis of it will calculate the most important columns. \n",
        "\n",
        "Note: Since we want to determine the important columns, we will discard the sign of correlation. i.e., we will make negative correlations as postive as we care about only magnitude"
      ]
    },
    {
      "cell_type": "code",
      "execution_count": null,
      "metadata": {
        "colab": {
          "base_uri": "https://localhost:8080/",
          "height": 555
        },
        "id": "GYHZAeUDh2nK",
        "outputId": "dcfd3168-4383-4efb-cf92-12ce38c702c7"
      },
      "outputs": [
        {
          "data": {
            "image/png": "[encoded data removed]",
            "text/plain": [
              "<Figure size 1440x1080 with 2 Axes>"
            ]
          },
          "metadata": {},
          "output_type": "display_data"
        }
      ],
      "source": [
        "# Visualizing the data using heatmap\n",
        "plt.rcParams[\"figure.figsize\"] = (20,15)\n",
        "sns.heatmap(abs(round(df.corr(), 1)), annot = True)\n",
        "plt.show()"
      ]
    },
    {
      "cell_type": "code",
      "source": [
        "df.describe()"
      ],
      "metadata": {
        "colab": {
          "base_uri": "https://localhost:8080/",
          "height": 364
        },
        "id": "UZwuAcWZBV0H",
        "outputId": "3fd621dd-de4d-4d0e-dfad-722a123f6fd1"
      },
      "execution_count": null,
      "outputs": [
        {
          "output_type": "execute_result",
          "data": {
            "text/plain": [
              "         X_Minimum    X_Maximum     Y_Minimum     Y_Maximum   Pixels_Areas  \\\n",
              "count  1941.000000  1941.000000  1.941000e+03  1.941000e+03    1941.000000   \n",
              "mean    571.136012   617.964451  1.650685e+06  1.650739e+06    1893.878413   \n",
              "std     520.690671   497.627410  1.774578e+06  1.774590e+06    5168.459560   \n",
              "min       0.000000     4.000000  6.712000e+03  6.724000e+03       2.000000   \n",
              "25%      51.000000   192.000000  4.712530e+05  4.712810e+05      84.000000   \n",
              "50%     435.000000   467.000000  1.204128e+06  1.204136e+06     174.000000   \n",
              "75%    1053.000000  1072.000000  2.183073e+06  2.183084e+06     822.000000   \n",
              "max    1705.000000  1713.000000  1.298766e+07  1.298769e+07  152655.000000   \n",
              "\n",
              "        X_Perimeter   Y_Perimeter  Sum_of_Luminosity  Minimum_of_Luminosity  \\\n",
              "count   1941.000000   1941.000000       1.941000e+03            1941.000000   \n",
              "mean     111.855229     82.965997       2.063121e+05              84.548686   \n",
              "std      301.209187    426.482879       5.122936e+05              32.134276   \n",
              "min        2.000000      1.000000       2.500000e+02               0.000000   \n",
              "25%       15.000000     13.000000       9.522000e+03              63.000000   \n",
              "50%       26.000000     25.000000       1.920200e+04              90.000000   \n",
              "75%       84.000000     83.000000       8.301100e+04             106.000000   \n",
              "max    10449.000000  18152.000000       1.159141e+07             203.000000   \n",
              "\n",
              "       Maximum_of_Luminosity  Length_of_Conveyer  TypeOfSteel_A300  \\\n",
              "count            1941.000000         1941.000000       1941.000000   \n",
              "mean              130.193715         1459.160227          0.400309   \n",
              "std                18.690992          144.577823          0.490087   \n",
              "min                37.000000         1227.000000          0.000000   \n",
              "25%               124.000000         1358.000000          0.000000   \n",
              "50%               127.000000         1364.000000          0.000000   \n",
              "75%               140.000000         1650.000000          1.000000   \n",
              "max               253.000000         1794.000000          1.000000   \n",
              "\n",
              "       TypeOfSteel_A400  Steel_Plate_Thickness  Edges_Index  Empty_Index  \\\n",
              "count       1941.000000            1941.000000  1941.000000  1941.000000   \n",
              "mean           0.599691              78.737764     0.331715     0.414203   \n",
              "std            0.490087              55.086032     0.299712     0.137261   \n",
              "min            0.000000              40.000000     0.000000     0.000000   \n",
              "25%            0.000000              40.000000     0.060400     0.315800   \n",
              "50%            1.000000              70.000000     0.227300     0.412100   \n",
              "75%            1.000000              80.000000     0.573800     0.501600   \n",
              "max            1.000000             300.000000     0.995200     0.943900   \n",
              "\n",
              "       Square_Index  Outside_X_Index  Edges_X_Index  Edges_Y_Index  \\\n",
              "count   1941.000000      1941.000000    1941.000000    1941.000000   \n",
              "mean       0.570767         0.033361       0.610529       0.813472   \n",
              "std        0.271058         0.058961       0.243277       0.234274   \n",
              "min        0.008300         0.001500       0.014400       0.048400   \n",
              "25%        0.361300         0.006600       0.411800       0.596800   \n",
              "50%        0.555600         0.010100       0.636400       0.947400   \n",
              "75%        0.818200         0.023500       0.800000       1.000000   \n",
              "max        1.000000         0.875900       1.000000       1.000000   \n",
              "\n",
              "       Outside_Global_Index   LogOfAreas  Log_X_Index  Log_Y_Index  \\\n",
              "count           1941.000000  1941.000000  1941.000000  1941.000000   \n",
              "mean               0.575734     2.492388     1.335686     1.403271   \n",
              "std                0.482352     0.788930     0.481612     0.454345   \n",
              "min                0.000000     0.301000     0.301000     0.000000   \n",
              "25%                0.000000     1.924300     1.000000     1.079200   \n",
              "50%                1.000000     2.240600     1.176100     1.322200   \n",
              "75%                1.000000     2.914900     1.518500     1.732400   \n",
              "max                1.000000     5.183700     3.074100     4.258700   \n",
              "\n",
              "       Orientation_Index  Luminosity_Index  SigmoidOfAreas       Faults  \n",
              "count        1941.000000       1941.000000     1941.000000  1941.000000  \n",
              "mean            0.083288         -0.131305        0.585420     3.841319  \n",
              "std             0.500868          0.148767        0.339452     2.144175  \n",
              "min            -0.991000         -0.998900        0.119000     0.000000  \n",
              "25%            -0.333300         -0.195000        0.248200     2.000000  \n",
              "50%             0.095200         -0.133000        0.506300     5.000000  \n",
              "75%             0.511600         -0.066600        0.999800     6.000000  \n",
              "max             0.991700          0.642100        1.000000     6.000000  "
            ],
            "text/html": [
              "\n",
              "  <div id=\"df-0c33c230-b756-4233-8b5c-0f4db3a987bf\">\n",
              "    <div class=\"colab-df-container\">\n",
              "      <div>\n",
              "<style scoped>\n",
              "    .dataframe tbody tr th:only-of-type {\n",
              "        vertical-align: middle;\n",
              "    }\n",
              "\n",
              "    .dataframe tbody tr th {\n",
              "        vertical-align: top;\n",
              "    }\n",
              "\n",
              "    .dataframe thead th {\n",
              "        text-align: right;\n",
              "    }\n",
              "</style>\n",
              "<table border=\"1\" class=\"dataframe\">\n",
              "  <thead>\n",
              "    <tr style=\"text-align: right;\">\n",
              "      <th></th>\n",
              "      <th>X_Minimum</th>\n",
              "      <th>X_Maximum</th>\n",
              "      <th>Y_Minimum</th>\n",
              "      <th>Y_Maximum</th>\n",
              "      <th>Pixels_Areas</th>\n",
              "      <th>X_Perimeter</th>\n",
              "      <th>Y_Perimeter</th>\n",
              "      <th>Sum_of_Luminosity</th>\n",
              "      <th>Minimum_of_Luminosity</th>\n",
              "      <th>Maximum_of_Luminosity</th>\n",
              "      <th>Length_of_Conveyer</th>\n",
              "      <th>TypeOfSteel_A300</th>\n",
              "      <th>TypeOfSteel_A400</th>\n",
              "      <th>Steel_Plate_Thickness</th>\n",
              "      <th>Edges_Index</th>\n",
              "      <th>Empty_Index</th>\n",
              "      <th>Square_Index</th>\n",
              "      <th>Outside_X_Index</th>\n",
              "      <th>Edges_X_Index</th>\n",
              "      <th>Edges_Y_Index</th>\n",
              "      <th>Outside_Global_Index</th>\n",
              "      <th>LogOfAreas</th>\n",
              "      <th>Log_X_Index</th>\n",
              "      <th>Log_Y_Index</th>\n",
              "      <th>Orientation_Index</th>\n",
              "      <th>Luminosity_Index</th>\n",
              "      <th>SigmoidOfAreas</th>\n",
              "      <th>Faults</th>\n",
              "    </tr>\n",
              "  </thead>\n",
              "  <tbody>\n",
              "    <tr>\n",
              "      <th>count</th>\n",
              "      <td>1941.000000</td>\n",
              "      <td>1941.000000</td>\n",
              "      <td>1.941000e+03</td>\n",
              "      <td>1.941000e+03</td>\n",
              "      <td>1941.000000</td>\n",
              "      <td>1941.000000</td>\n",
              "      <td>1941.000000</td>\n",
              "      <td>1.941000e+03</td>\n",
              "      <td>1941.000000</td>\n",
              "      <td>1941.000000</td>\n",
              "      <td>1941.000000</td>\n",
              "      <td>1941.000000</td>\n",
              "      <td>1941.000000</td>\n",
              "      <td>1941.000000</td>\n",
              "      <td>1941.000000</td>\n",
              "      <td>1941.000000</td>\n",
              "      <td>1941.000000</td>\n",
              "      <td>1941.000000</td>\n",
              "      <td>1941.000000</td>\n",
              "      <td>1941.000000</td>\n",
              "      <td>1941.000000</td>\n",
              "      <td>1941.000000</td>\n",
              "      <td>1941.000000</td>\n",
              "      <td>1941.000000</td>\n",
              "      <td>1941.000000</td>\n",
              "      <td>1941.000000</td>\n",
              "      <td>1941.000000</td>\n",
              "      <td>1941.000000</td>\n",
              "    </tr>\n",
              "    <tr>\n",
              "      <th>mean</th>\n",
              "      <td>571.136012</td>\n",
              "      <td>617.964451</td>\n",
              "      <td>1.650685e+06</td>\n",
              "      <td>1.650739e+06</td>\n",
              "      <td>1893.878413</td>\n",
              "      <td>111.855229</td>\n",
              "      <td>82.965997</td>\n",
              "      <td>2.063121e+05</td>\n",
              "      <td>84.548686</td>\n",
              "      <td>130.193715</td>\n",
              "      <td>1459.160227</td>\n",
              "      <td>0.400309</td>\n",
              "      <td>0.599691</td>\n",
              "      <td>78.737764</td>\n",
              "      <td>0.331715</td>\n",
              "      <td>0.414203</td>\n",
              "      <td>0.570767</td>\n",
              "      <td>0.033361</td>\n",
              "      <td>0.610529</td>\n",
              "      <td>0.813472</td>\n",
              "      <td>0.575734</td>\n",
              "      <td>2.492388</td>\n",
              "      <td>1.335686</td>\n",
              "      <td>1.403271</td>\n",
              "      <td>0.083288</td>\n",
              "      <td>-0.131305</td>\n",
              "      <td>0.585420</td>\n",
              "      <td>3.841319</td>\n",
              "    </tr>\n",
              "    <tr>\n",
              "      <th>std</th>\n",
              "      <td>520.690671</td>\n",
              "      <td>497.627410</td>\n",
              "      <td>1.774578e+06</td>\n",
              "      <td>1.774590e+06</td>\n",
              "      <td>5168.459560</td>\n",
              "      <td>301.209187</td>\n",
              "      <td>426.482879</td>\n",
              "      <td>5.122936e+05</td>\n",
              "      <td>32.134276</td>\n",
              "      <td>18.690992</td>\n",
              "      <td>144.577823</td>\n",
              "      <td>0.490087</td>\n",
              "      <td>0.490087</td>\n",
              "      <td>55.086032</td>\n",
              "      <td>0.299712</td>\n",
              "      <td>0.137261</td>\n",
              "      <td>0.271058</td>\n",
              "      <td>0.058961</td>\n",
              "      <td>0.243277</td>\n",
              "      <td>0.234274</td>\n",
              "      <td>0.482352</td>\n",
              "      <td>0.788930</td>\n",
              "      <td>0.481612</td>\n",
              "      <td>0.454345</td>\n",
              "      <td>0.500868</td>\n",
              "      <td>0.148767</td>\n",
              "      <td>0.339452</td>\n",
              "      <td>2.144175</td>\n",
              "    </tr>\n",
              "    <tr>\n",
              "      <th>min</th>\n",
              "      <td>0.000000</td>\n",
              "      <td>4.000000</td>\n",
              "      <td>6.712000e+03</td>\n",
              "      <td>6.724000e+03</td>\n",
              "      <td>2.000000</td>\n",
              "      <td>2.000000</td>\n",
              "      <td>1.000000</td>\n",
              "      <td>2.500000e+02</td>\n",
              "      <td>0.000000</td>\n",
              "      <td>37.000000</td>\n",
              "      <td>1227.000000</td>\n",
              "      <td>0.000000</td>\n",
              "      <td>0.000000</td>\n",
              "      <td>40.000000</td>\n",
              "      <td>0.000000</td>\n",
              "      <td>0.000000</td>\n",
              "      <td>0.008300</td>\n",
              "      <td>0.001500</td>\n",
              "      <td>0.014400</td>\n",
              "      <td>0.048400</td>\n",
              "      <td>0.000000</td>\n",
              "      <td>0.301000</td>\n",
              "      <td>0.301000</td>\n",
              "      <td>0.000000</td>\n",
              "      <td>-0.991000</td>\n",
              "      <td>-0.998900</td>\n",
              "      <td>0.119000</td>\n",
              "      <td>0.000000</td>\n",
              "    </tr>\n",
              "    <tr>\n",
              "      <th>25%</th>\n",
              "      <td>51.000000</td>\n",
              "      <td>192.000000</td>\n",
              "      <td>4.712530e+05</td>\n",
              "      <td>4.712810e+05</td>\n",
              "      <td>84.000000</td>\n",
              "      <td>15.000000</td>\n",
              "      <td>13.000000</td>\n",
              "      <td>9.522000e+03</td>\n",
              "      <td>63.000000</td>\n",
              "      <td>124.000000</td>\n",
              "      <td>1358.000000</td>\n",
              "      <td>0.000000</td>\n",
              "      <td>0.000000</td>\n",
              "      <td>40.000000</td>\n",
              "      <td>0.060400</td>\n",
              "      <td>0.315800</td>\n",
              "      <td>0.361300</td>\n",
              "      <td>0.006600</td>\n",
              "      <td>0.411800</td>\n",
              "      <td>0.596800</td>\n",
              "      <td>0.000000</td>\n",
              "      <td>1.924300</td>\n",
              "      <td>1.000000</td>\n",
              "      <td>1.079200</td>\n",
              "      <td>-0.333300</td>\n",
              "      <td>-0.195000</td>\n",
              "      <td>0.248200</td>\n",
              "      <td>2.000000</td>\n",
              "    </tr>\n",
              "    <tr>\n",
              "      <th>50%</th>\n",
              "      <td>435.000000</td>\n",
              "      <td>467.000000</td>\n",
              "      <td>1.204128e+06</td>\n",
              "      <td>1.204136e+06</td>\n",
              "      <td>174.000000</td>\n",
              "      <td>26.000000</td>\n",
              "      <td>25.000000</td>\n",
              "      <td>1.920200e+04</td>\n",
              "      <td>90.000000</td>\n",
              "      <td>127.000000</td>\n",
              "      <td>1364.000000</td>\n",
              "      <td>0.000000</td>\n",
              "      <td>1.000000</td>\n",
              "      <td>70.000000</td>\n",
              "      <td>0.227300</td>\n",
              "      <td>0.412100</td>\n",
              "      <td>0.555600</td>\n",
              "      <td>0.010100</td>\n",
              "      <td>0.636400</td>\n",
              "      <td>0.947400</td>\n",
              "      <td>1.000000</td>\n",
              "      <td>2.240600</td>\n",
              "      <td>1.176100</td>\n",
              "      <td>1.322200</td>\n",
              "      <td>0.095200</td>\n",
              "      <td>-0.133000</td>\n",
              "      <td>0.506300</td>\n",
              "      <td>5.000000</td>\n",
              "    </tr>\n",
              "    <tr>\n",
              "      <th>75%</th>\n",
              "      <td>1053.000000</td>\n",
              "      <td>1072.000000</td>\n",
              "      <td>2.183073e+06</td>\n",
              "      <td>2.183084e+06</td>\n",
              "      <td>822.000000</td>\n",
              "      <td>84.000000</td>\n",
              "      <td>83.000000</td>\n",
              "      <td>8.301100e+04</td>\n",
              "      <td>106.000000</td>\n",
              "      <td>140.000000</td>\n",
              "      <td>1650.000000</td>\n",
              "      <td>1.000000</td>\n",
              "      <td>1.000000</td>\n",
              "      <td>80.000000</td>\n",
              "      <td>0.573800</td>\n",
              "      <td>0.501600</td>\n",
              "      <td>0.818200</td>\n",
              "      <td>0.023500</td>\n",
              "      <td>0.800000</td>\n",
              "      <td>1.000000</td>\n",
              "      <td>1.000000</td>\n",
              "      <td>2.914900</td>\n",
              "      <td>1.518500</td>\n",
              "      <td>1.732400</td>\n",
              "      <td>0.511600</td>\n",
              "      <td>-0.066600</td>\n",
              "      <td>0.999800</td>\n",
              "      <td>6.000000</td>\n",
              "    </tr>\n",
              "    <tr>\n",
              "      <th>max</th>\n",
              "      <td>1705.000000</td>\n",
              "      <td>1713.000000</td>\n",
              "      <td>1.298766e+07</td>\n",
              "      <td>1.298769e+07</td>\n",
              "      <td>152655.000000</td>\n",
              "      <td>10449.000000</td>\n",
              "      <td>18152.000000</td>\n",
              "      <td>1.159141e+07</td>\n",
              "      <td>203.000000</td>\n",
              "      <td>253.000000</td>\n",
              "      <td>1794.000000</td>\n",
              "      <td>1.000000</td>\n",
              "      <td>1.000000</td>\n",
              "      <td>300.000000</td>\n",
              "      <td>0.995200</td>\n",
              "      <td>0.943900</td>\n",
              "      <td>1.000000</td>\n",
              "      <td>0.875900</td>\n",
              "      <td>1.000000</td>\n",
              "      <td>1.000000</td>\n",
              "      <td>1.000000</td>\n",
              "      <td>5.183700</td>\n",
              "      <td>3.074100</td>\n",
              "      <td>4.258700</td>\n",
              "      <td>0.991700</td>\n",
              "      <td>0.642100</td>\n",
              "      <td>1.000000</td>\n",
              "      <td>6.000000</td>\n",
              "    </tr>\n",
              "  </tbody>\n",
              "</table>\n",
              "</div>\n",
              "      <button class=\"colab-df-convert\" onclick=\"convertToInteractive('df-0c33c230-b756-4233-8b5c-0f4db3a987bf')\"\n",
              "              title=\"Convert this dataframe to an interactive table.\"\n",
              "              style=\"display:none;\">\n",
              "        \n",
              "  <svg xmlns=\"http://www.w3.org/2000/svg\" height=\"24px\"viewBox=\"0 0 24 24\"\n",
              "       width=\"24px\">\n",
              "    <path d=\"M0 0h24v24H0V0z\" fill=\"none\"/>\n",
              "    <path d=\"M18.56 5.44l.94 2.06.94-2.06 2.06-.94-2.06-.94-.94-2.06-.94 2.06-2.06.94zm-11 1L8.5 8.5l.94-2.06 2.06-.94-2.06-.94L8.5 2.5l-.94 2.06-2.06.94zm10 10l.94 2.06.94-2.06 2.06-.94-2.06-.94-.94-2.06-.94 2.06-2.06.94z\"/><path d=\"M17.41 7.96l-1.37-1.37c-.4-.4-.92-.59-1.43-.59-.52 0-1.04.2-1.43.59L10.3 9.45l-7.72 7.72c-.78.78-.78 2.05 0 2.83L4 21.41c.39.39.9.59 1.41.59.51 0 1.02-.2 1.41-.59l7.78-7.78 2.81-2.81c.8-.78.8-2.07 0-2.86zM5.41 20L4 18.59l7.72-7.72 1.47 1.35L5.41 20z\"/>\n",
              "  </svg>\n",
              "      </button>\n",
              "      \n",
              "  <style>\n",
              "    .colab-df-container {\n",
              "      display:flex;\n",
              "      flex-wrap:wrap;\n",
              "      gap: 12px;\n",
              "    }\n",
              "\n",
              "    .colab-df-convert {\n",
              "      background-color: #E8F0FE;\n",
              "      border: none;\n",
              "      border-radius: 50%;\n",
              "      cursor: pointer;\n",
              "      display: none;\n",
              "      fill: #1967D2;\n",
              "      height: 32px;\n",
              "      padding: 0 0 0 0;\n",
              "      width: 32px;\n",
              "    }\n",
              "\n",
              "    .colab-df-convert:hover {\n",
              "      background-color: #E2EBFA;\n",
              "      box-shadow: 0px 1px 2px rgba(60, 64, 67, 0.3), 0px 1px 3px 1px rgba(60, 64, 67, 0.15);\n",
              "      fill: #174EA6;\n",
              "    }\n",
              "\n",
              "    [theme=dark] .colab-df-convert {\n",
              "      background-color: #3B4455;\n",
              "      fill: #D2E3FC;\n",
              "    }\n",
              "\n",
              "    [theme=dark] .colab-df-convert:hover {\n",
              "      background-color: #434B5C;\n",
              "      box-shadow: 0px 1px 3px 1px rgba(0, 0, 0, 0.15);\n",
              "      filter: drop-shadow(0px 1px 2px rgba(0, 0, 0, 0.3));\n",
              "      fill: #FFFFFF;\n",
              "    }\n",
              "  </style>\n",
              "\n",
              "      <script>\n",
              "        const buttonEl =\n",
              "          document.querySelector('#df-0c33c230-b756-4233-8b5c-0f4db3a987bf button.colab-df-convert');\n",
              "        buttonEl.style.display =\n",
              "          google.colab.kernel.accessAllowed ? 'block' : 'none';\n",
              "\n",
              "        async function convertToInteractive(key) {\n",
              "          const element = document.querySelector('#df-0c33c230-b756-4233-8b5c-0f4db3a987bf');\n",
              "          const dataTable =\n",
              "            await google.colab.kernel.invokeFunction('convertToInteractive',\n",
              "                                                     [key], {});\n",
              "          if (!dataTable) return;\n",
              "\n",
              "          const docLinkHtml = 'Like what you see? Visit the ' +\n",
              "            '<a target=\"_blank\" href=https://colab.research.google.com/notebooks/data_table.ipynb>data table notebook</a>'\n",
              "            + ' to learn more about interactive tables.';\n",
              "          element.innerHTML = '';\n",
              "          dataTable['output_type'] = 'display_data';\n",
              "          await google.colab.output.renderOutput(dataTable, element);\n",
              "          const docLink = document.createElement('div');\n",
              "          docLink.innerHTML = docLinkHtml;\n",
              "          element.appendChild(docLink);\n",
              "        }\n",
              "      </script>\n",
              "    </div>\n",
              "  </div>\n",
              "  "
            ]
          },
          "metadata": {},
          "execution_count": 134
        }
      ]
    },
    {
      "cell_type": "markdown",
      "metadata": {
        "id": "JQz1hfeoflO8"
      },
      "source": [
        "One problem that we can clearly see from the above table is that the range of the individual columns is very different from each other.\n",
        "\n",
        "For example, **Pixels_Areas** and **Minimum_of_Luminosity**. \n",
        "\n",
        "**Pixels_Areas** column has maximun value at **152655** whereas the maximum value of **Minimum_of_Luminosity** is **203** which is a big difference. \n",
        "\n",
        "Similarly, **Pixels_Areas** column has mean value at **1893.87** whereas the mean value of **Minimum_of_Luminosity** is **84.54** which is again a big difference. "
      ]
    },
    {
      "cell_type": "markdown",
      "metadata": {
        "id": "ntfZHPfvg0vL"
      },
      "source": [
        "One way to deal with this range issue is that we scale whole of data into some particular predefined range. We will be using MinMaxScalar from Sklearn library to scale our dataset"
      ]
    },
    {
      "cell_type": "code",
      "execution_count": null,
      "metadata": {
        "colab": {
          "base_uri": "https://localhost:8080/"
        },
        "id": "uuLWqcaMssiH",
        "outputId": "04cb70b5-04f0-4475-e06e-99e28b90a8b8"
      },
      "outputs": [
        {
          "name": "stdout",
          "output_type": "stream",
          "text": [
            "(1941, 28) (1941, 27)\n"
          ]
        }
      ],
      "source": [
        "# We will be removing the Faults column as its our target column and we dont\n",
        "# need to scale it\n",
        "scaler = MinMaxScaler()\n",
        "scaled_data = scaler.fit_transform(df.drop(columns='Faults'))\n",
        "print(df.shape, scaled_data.shape)"
      ]
    },
    {
      "cell_type": "code",
      "execution_count": null,
      "metadata": {
        "colab": {
          "base_uri": "https://localhost:8080/"
        },
        "id": "yRov7YYJsO6h",
        "outputId": "99e87fde-5698-4bb9-df08-0555847670ba"
      },
      "outputs": [
        {
          "data": {
            "text/plain": [
              "array([[0.02463343, 0.02691633, 0.02035198, ..., 0.91249307, 0.43120049,\n",
              "        0.52576617],\n",
              "       [0.37829912, 0.37858397, 0.19500631, ..., 0.89983356, 0.50170628,\n",
              "        0.20363224],\n",
              "       [0.48621701, 0.48624927, 0.11919013, ..., 0.83608211, 0.53388178,\n",
              "        0.10896708],\n",
              "       ...,\n",
              "       [0.08504399, 0.09947338, 0.02927883, ..., 0.25631714, 0.611883  ,\n",
              "        0.66844495],\n",
              "       [0.08035191, 0.09713283, 0.0320304 , ..., 0.46925909, 0.59829372,\n",
              "        0.9908059 ],\n",
              "       [0.73958944, 0.7472206 , 0.00625833, ..., 0.39895093, 0.5393053 ,\n",
              "        0.46606129]])"
            ]
          },
          "execution_count": 64,
          "metadata": {},
          "output_type": "execute_result"
        }
      ],
      "source": [
        "# Our Dataframe will be converted into an array with values like this:\n",
        "scaled_data"
      ]
    },
    {
      "cell_type": "markdown",
      "metadata": {
        "id": "xzNWouqJsll4"
      },
      "source": [
        "# Preparing Data for training"
      ]
    },
    {
      "cell_type": "markdown",
      "metadata": {
        "id": "ZtQ4fWQAssgS"
      },
      "source": [
        "We Will first fetch our taget variable in a seperate variable **target** "
      ]
    },
    {
      "cell_type": "code",
      "execution_count": null,
      "metadata": {
        "id": "hnxicPO5iSn4"
      },
      "outputs": [],
      "source": [
        "target = df[\"Faults\"]"
      ]
    },
    {
      "cell_type": "markdown",
      "metadata": {
        "id": "9IYa184Ttk55"
      },
      "source": [
        "We will also convert our target variable into categorical form"
      ]
    },
    {
      "cell_type": "markdown",
      "metadata": {
        "id": "iurShUqMsaAv"
      },
      "source": [
        "A problem that faces us is that the data is unbalanced so we are going to balance it using SMOTE"
      ]
    },
    {
      "cell_type": "code",
      "execution_count": null,
      "metadata": {
        "colab": {
          "base_uri": "https://localhost:8080/"
        },
        "id": "aCWFH9w0s3oe",
        "outputId": "e9ee5849-3b2c-48db-b503-0bdb935dec1c"
      },
      "outputs": [
        {
          "data": {
            "text/plain": [
              "((4711, 27), (4711,))"
            ]
          },
          "execution_count": 66,
          "metadata": {},
          "output_type": "execute_result"
        }
      ],
      "source": [
        "balanced_data, target = SMOTE().fit_resample(scaled_data, target)\n",
        "balanced_data.shape, target.shape"
      ]
    },
    {
      "cell_type": "markdown",
      "metadata": {
        "id": "gqjcQ9xvtyJp"
      },
      "source": [
        "We will now split our data into training and testing set. We will be using train_test_split function from sklearn"
      ]
    },
    {
      "cell_type": "code",
      "execution_count": null,
      "metadata": {
        "id": "XYOYARo4h9bo"
      },
      "outputs": [],
      "source": [
        "X_train, X_test, y_train, y_test = train_test_split(balanced_data, target, test_size=0.30)"
      ]
    },
    {
      "cell_type": "code",
      "execution_count": null,
      "metadata": {
        "colab": {
          "base_uri": "https://localhost:8080/"
        },
        "id": "_nUQeS3aigY0",
        "outputId": "a93b32e4-2561-4f72-9a27-a65e2ff8e397"
      },
      "outputs": [
        {
          "data": {
            "text/plain": [
              "((3297, 27), (1414, 27), (3297,), (1414,))"
            ]
          },
          "execution_count": 68,
          "metadata": {},
          "output_type": "execute_result"
        }
      ],
      "source": [
        "X_train.shape, X_test.shape, y_train.shape, y_test.shape"
      ]
    },
    {
      "cell_type": "markdown",
      "metadata": {
        "id": "Gl1VH2Z5uFQA"
      },
      "source": [
        "# Building Models"
      ]
    },
    {
      "cell_type": "markdown",
      "metadata": {
        "id": "CnyfRQCKV65X"
      },
      "source": [
        "## ANN"
      ]
    },
    {
      "cell_type": "markdown",
      "metadata": {
        "id": "tMo96i_MrLe-"
      },
      "source": [
        "Converting the data in Tensor as we are going to use Pytorch."
      ]
    },
    {
      "cell_type": "code",
      "execution_count": null,
      "metadata": {
        "id": "chklLhwnrLe_"
      },
      "outputs": [],
      "source": [
        "X_train = Variable(torch.from_numpy(X_train).float())\n",
        "y_train = Variable(torch.from_numpy(y_train.to_numpy()).long())\n",
        "X_test  = Variable(torch.from_numpy(X_test).float())\n",
        "y_test  = Variable(torch.tensor(y_test.to_numpy()).long())\n"
      ]
    },
    {
      "cell_type": "markdown",
      "metadata": {
        "id": "ObvGCu0brLfA"
      },
      "source": [
        "1. Model consists of 6 layers\n",
        "2. 1st layer shape of (columns,128)\n",
        "3. 2nd layer shape of (128,128)\n",
        "4. 3rd layer shape of (128,64)\n",
        "5. 4th layer shape of (64,128)\n",
        "6. 5th layer shape of (128,64)\n",
        "7. 6th layer shspe of (64,7)\n",
        "8. Use Relu as a function\n",
        "9. for last layer Softmax as function it's basilaclly as probibilty type function."
      ]
    },
    {
      "cell_type": "code",
      "execution_count": null,
      "metadata": {
        "id": "FiCgBKaZrLfC"
      },
      "outputs": [],
      "source": [
        "\n",
        "class Model(nn.Module):\n",
        "    def __init__(self, input_dim):\n",
        "        super(Model, self).__init__()\n",
        "        self.layer1 = nn.Linear(input_dim, 128)\n",
        "        self.layer2 = nn.Linear(128, 128)\n",
        "        self.layer3 = nn.Linear(128, 64)\n",
        "        self.layer4 = nn.Linear(64, 128)\n",
        "        self.layer5 = nn.Linear(128, 64)\n",
        "        self.layer6 = nn.Linear(64, 7)\n",
        "        \n",
        "    def forward(self, x):\n",
        "        x = F.relu(self.layer1(x))\n",
        "        x = F.relu(self.layer2(x))\n",
        "        x = F.relu(self.layer3(x))\n",
        "        x = F.relu(self.layer4(x))\n",
        "        x = F.relu(self.layer5(x))\n",
        "        x = F.softmax(self.layer6(x), dim=1)\n",
        "        return x"
      ]
    },
    {
      "cell_type": "code",
      "execution_count": null,
      "metadata": {
        "id": "BxItvK7wy7jg"
      },
      "outputs": [],
      "source": [
        "model = Model(X_train.shape[1])\n",
        "optimizer = torch.optim.Adam(model.parameters(),lr=0.01)\n",
        "loss_fn = nn.CrossEntropyLoss()"
      ]
    },
    {
      "cell_type": "markdown",
      "metadata": {
        "id": "ms8lqgpzwq20"
      },
      "source": [
        "### Model Training"
      ]
    },
    {
      "cell_type": "code",
      "execution_count": null,
      "metadata": {
        "id": "lEQIVifezX4g"
      },
      "outputs": [],
      "source": [
        "EPOCHS = 400"
      ]
    },
    {
      "cell_type": "code",
      "execution_count": null,
      "metadata": {
        "id": "8tpX_dkFzaWP"
      },
      "outputs": [],
      "source": [
        "loss_list     = np.zeros((EPOCHS,))\n",
        "accuracy_list = np.zeros((EPOCHS,))\n",
        "\n",
        "for epoch in range(EPOCHS):\n",
        "    y_pred = model(X_train.float())\n",
        "    loss = loss_fn(y_pred, y_train.long())\n",
        "    loss_list[epoch] = loss.item()\n",
        "    \n",
        "    optimizer.zero_grad()\n",
        "    loss.backward()\n",
        "    optimizer.step()\n",
        "    \n",
        "    with torch.no_grad():\n",
        "        y_pred = model(X_test.float())\n",
        "        correct = (torch.argmax(y_pred, dim=1) == y_test).type(torch.FloatTensor)\n",
        "        accuracy_list[epoch] = correct.mean()"
      ]
    },
    {
      "cell_type": "markdown",
      "metadata": {
        "id": "XR7gdnNhxXeU"
      },
      "source": [
        "### Model Evaluation"
      ]
    },
    {
      "cell_type": "markdown",
      "metadata": {
        "id": "qEyS_IZ857ND"
      },
      "source": [
        "Let us first plot Accuracy and Loss per Epoch the model was trained on"
      ]
    },
    {
      "cell_type": "code",
      "execution_count": null,
      "metadata": {
        "colab": {
          "base_uri": "https://localhost:8080/",
          "height": 350
        },
        "id": "7x_m7dOVrLfK",
        "outputId": "53c9536b-057c-44ef-bf1c-d460f45ddd27"
      },
      "outputs": [
        {
          "data": {
            "image/png": "[encoded data removed]",
            "text/plain": [
              "<Figure size 864x432 with 2 Axes>"
            ]
          },
          "metadata": {},
          "output_type": "display_data"
        }
      ],
      "source": [
        "fig, (ax1, ax2) = plt.subplots(2, figsize=(12, 6), sharex=True)\n",
        "ax1.plot(accuracy_list)\n",
        "ax1.set_ylabel(\"Test accuracy\")\n",
        "ax2.plot(loss_list)\n",
        "ax2.set_ylabel(\"Test loss\")\n",
        "ax2.set_xlabel(\"epochs\");"
      ]
    },
    {
      "cell_type": "code",
      "execution_count": null,
      "metadata": {
        "id": "dVm-Q_kLrLfM"
      },
      "outputs": [],
      "source": [
        "y_pred = model(X_test)"
      ]
    },
    {
      "cell_type": "markdown",
      "metadata": {
        "id": "80j__cvQ3KWw"
      },
      "source": [
        "Following cell will print the classification report"
      ]
    },
    {
      "cell_type": "code",
      "execution_count": null,
      "metadata": {
        "colab": {
          "base_uri": "https://localhost:8080/"
        },
        "id": "_QfkS7YqrLfM",
        "outputId": "fac42fc9-592c-4ce5-e538-6e3157ae3324"
      },
      "outputs": [
        {
          "name": "stdout",
          "output_type": "stream",
          "text": [
            "              precision    recall  f1-score   support\n",
            "\n",
            "           0       0.67      0.91      0.77       192\n",
            "           1       0.94      0.95      0.94       206\n",
            "           2       0.91      0.86      0.89       202\n",
            "           3       0.95      1.00      0.97       210\n",
            "           4       0.87      0.98      0.92       213\n",
            "           5       0.55      0.83      0.66       193\n",
            "           6       0.00      0.00      0.00       198\n",
            "\n",
            "    accuracy                           0.80      1414\n",
            "   macro avg       0.70      0.79      0.74      1414\n",
            "weighted avg       0.71      0.80      0.74      1414\n",
            "\n"
          ]
        },
        {
          "name": "stderr",
          "output_type": "stream",
          "text": [
            "/usr/local/lib/python3.7/dist-packages/sklearn/metrics/_classification.py:1318: UndefinedMetricWarning: Precision and F-score are ill-defined and being set to 0.0 in labels with no predicted samples. Use `zero_division` parameter to control this behavior.\n",
            "  _warn_prf(average, modifier, msg_start, len(result))\n",
            "/usr/local/lib/python3.7/dist-packages/sklearn/metrics/_classification.py:1318: UndefinedMetricWarning: Precision and F-score are ill-defined and being set to 0.0 in labels with no predicted samples. Use `zero_division` parameter to control this behavior.\n",
            "  _warn_prf(average, modifier, msg_start, len(result))\n",
            "/usr/local/lib/python3.7/dist-packages/sklearn/metrics/_classification.py:1318: UndefinedMetricWarning: Precision and F-score are ill-defined and being set to 0.0 in labels with no predicted samples. Use `zero_division` parameter to control this behavior.\n",
            "  _warn_prf(average, modifier, msg_start, len(result))\n"
          ]
        }
      ],
      "source": [
        "print(classification_report(y_test.detach().numpy(), torch.argmax(y_pred, dim=1).detach().numpy()))\n"
      ]
    },
    {
      "cell_type": "code",
      "execution_count": null,
      "metadata": {
        "id": "C8FlghgarLfN"
      },
      "outputs": [],
      "source": [
        "confMatrix = confusion_matrix(y_test.detach().numpy(), torch.argmax(y_pred, dim=1).detach().numpy())"
      ]
    },
    {
      "cell_type": "code",
      "execution_count": null,
      "metadata": {
        "colab": {
          "base_uri": "https://localhost:8080/",
          "height": 388
        },
        "id": "W3AgRanB0CVE",
        "outputId": "8e6a7243-78a6-4e3e-f283-5f5e8f7dd71b"
      },
      "outputs": [
        {
          "output_type": "display_data",
          "data": {
            "text/plain": [
              "<Figure size 576x432 with 2 Axes>"
            ],
            "image/png": "[encoded data removed]"
          },
          "metadata": {
            "needs_background": "light"
          }
        }
      ],
      "source": [
        "plt.rcParams[\"figure.figsize\"] = (8,6)\n",
        "ANN_df_conf_matrix = pd.DataFrame(confMatrix)\n",
        "sns.heatmap(ANN_df_conf_matrix, annot=True, cmap='BuPu')\n",
        "plt.xlabel('Predicted Values')\n",
        "plt.ylabel('Actual Values')\n",
        "plt.show()"
      ]
    },
    {
      "cell_type": "markdown",
      "metadata": {
        "id": "pKl6kIFCbpgg"
      },
      "source": [
        "## Decision Tree"
      ]
    },
    {
      "cell_type": "markdown",
      "metadata": {
        "id": "VfeshHY8paje"
      },
      "source": [
        "### Finding optimal parameters"
      ]
    },
    {
      "cell_type": "code",
      "execution_count": null,
      "metadata": {
        "colab": {
          "background_save": true
        },
        "id": "g8ZNLVIpcJ0V",
        "outputId": "72d18555-7750-4228-d7df-0f1fe0fa9972"
      },
      "outputs": [
        {
          "name": "stdout",
          "output_type": "stream",
          "text": [
            "{'criterion': 'entropy', 'max_depth': 11, 'min_samples_leaf': 5, 'min_samples_split': 5}\n"
          ]
        }
      ],
      "source": [
        "parameters = {'criterion':('gini', 'entropy'), 'max_depth' : list(range(2,12)), \n",
        "'min_samples_split' : list(range(5,25)), 'min_samples_leaf': list(range(5,30))}\n",
        "dtree = DecisionTreeClassifier()\n",
        "gsCV = GridSearchCV(dtree, parameters, cv=5, refit='f1')\n",
        "gsCV.fit(X_train, y_train)\n",
        "print(gsCV.best_params_) "
      ]
    },
    {
      "cell_type": "markdown",
      "metadata": {
        "id": "eD4LzdJlpjzZ"
      },
      "source": [
        "### Model Training"
      ]
    },
    {
      "cell_type": "code",
      "execution_count": null,
      "metadata": {
        "colab": {
          "base_uri": "https://localhost:8080/"
        },
        "id": "RIGxLAbLfybn",
        "outputId": "b6c64090-1d32-41a8-b6e9-63f8771a7d4a"
      },
      "outputs": [
        {
          "output_type": "execute_result",
          "data": {
            "text/plain": [
              "DecisionTreeClassifier(criterion='entropy', max_depth=11, min_samples_leaf=5,\n",
              "                       min_samples_split=5)"
            ]
          },
          "metadata": {},
          "execution_count": 109
        }
      ],
      "source": [
        "dtree=DecisionTreeClassifier(criterion='entropy', max_depth=11, min_samples_leaf=5, min_samples_split=5)\n",
        "dtree.fit(X_train, y_train)"
      ]
    },
    {
      "cell_type": "markdown",
      "metadata": {
        "id": "RusUSadkm5Iz"
      },
      "source": [
        "### Model Evaluation"
      ]
    },
    {
      "cell_type": "code",
      "execution_count": null,
      "metadata": {
        "colab": {
          "base_uri": "https://localhost:8080/"
        },
        "id": "5rbPjS2VnT-j",
        "outputId": "9764562d-06be-4216-cc56-6e4267926ffa"
      },
      "outputs": [
        {
          "output_type": "stream",
          "name": "stdout",
          "text": [
            "Decision Tree accuracy on test data: 0.8352192362093352\n"
          ]
        }
      ],
      "source": [
        "print('Decision Tree accuracy on test data:',dtree.score(X_test,y_test))"
      ]
    },
    {
      "cell_type": "code",
      "execution_count": null,
      "metadata": {
        "id": "sS4IAteynduJ"
      },
      "outputs": [],
      "source": [
        "# getting the pridections\n",
        "dt_y_pred = dtree.predict(X_test)"
      ]
    },
    {
      "cell_type": "code",
      "execution_count": null,
      "metadata": {
        "colab": {
          "base_uri": "https://localhost:8080/",
          "height": 388
        },
        "id": "OlizQdPEm4VD",
        "outputId": "20da36cf-92f6-4d5f-c132-11b08cfda9df"
      },
      "outputs": [
        {
          "output_type": "display_data",
          "data": {
            "text/plain": [
              "<Figure size 576x432 with 2 Axes>"
            ],
            "image/png": "[encoded data removed]"
          },
          "metadata": {
            "needs_background": "light"
          }
        }
      ],
      "source": [
        "# # confusion matrix visualisation\n",
        "plt.rcParams[\"figure.figsize\"] = (8,6)\n",
        "confusionMatrix = confusion_matrix(y_test, y_pred=dt_y_pred)\n",
        "dfConfMatrx = pd.DataFrame(confusionMatrix)\n",
        "sns.heatmap(dfConfMatrx, annot=True, cmap='BuPu')\n",
        "plt.xlabel('Predicted Values')\n",
        "plt.ylabel('Actual Values')\n",
        "plt.show()"
      ]
    },
    {
      "cell_type": "markdown",
      "metadata": {
        "id": "H4wmrbcztEk7"
      },
      "source": [
        "Following cell shows the classification report"
      ]
    },
    {
      "cell_type": "code",
      "execution_count": null,
      "metadata": {
        "colab": {
          "base_uri": "https://localhost:8080/"
        },
        "id": "YlNytZB1oezf",
        "outputId": "d7cefa6a-508b-4f18-c2e3-dbe3d4f7b95d"
      },
      "outputs": [
        {
          "output_type": "stream",
          "name": "stdout",
          "text": [
            "              precision    recall  f1-score   support\n",
            "\n",
            "           0       0.83      0.84      0.83       189\n",
            "           1       0.91      0.95      0.93       197\n",
            "           2       0.95      0.90      0.93       213\n",
            "           3       0.96      0.93      0.95       215\n",
            "           4       0.98      0.93      0.95       223\n",
            "           5       0.67      0.66      0.67       196\n",
            "           6       0.53      0.57      0.55       181\n",
            "\n",
            "    accuracy                           0.84      1414\n",
            "   macro avg       0.83      0.83      0.83      1414\n",
            "weighted avg       0.84      0.84      0.84      1414\n",
            "\n"
          ]
        }
      ],
      "source": [
        "print(classification_report(dt_y_pred, y_test))"
      ]
    },
    {
      "cell_type": "markdown",
      "metadata": {
        "id": "fx75GfqR_49o"
      },
      "source": [
        "# Conclusion"
      ]
    },
    {
      "cell_type": "markdown",
      "metadata": {
        "id": "ayaNOPVQABG2"
      },
      "source": [
        "As we can see from the confusion matrices of both models, both models have done amazing job classifying all the classes except the class 5 and 6 where they stumbled a bit. One iteresting fact is despite the complexity of the ANN model our decision tree has outdone it in all the performance metrics. Which confirms the No Free Lunch Theorm. "
      ]
    }
  ],
  "metadata": {
    "accelerator": "GPU",
    "colab": {
      "collapsed_sections": [],
      "provenance": []
    },
    "gpuClass": "standard",
    "kernelspec": {
      "display_name": "Python 3",
      "name": "python3"
    },
    "language_info": {
      "name": "python"
    }
  },
  "nbformat": 4,
  "nbformat_minor": 0
}